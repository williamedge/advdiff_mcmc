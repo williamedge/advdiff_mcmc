{
 "cells": [
  {
   "cell_type": "markdown",
   "id": "4033e483",
   "metadata": {},
   "source": [
    "# Notebook for Edge et al. (2022) JGR:JAMES submission\n",
    "\n",
    "## Case Study 2: Erosion model 1\n",
    "\n",
    "Notes:\n",
    "- This version of the notebook was not run in an optimized Python environment (g++, chain parallelization). \n"
   ]
  },
  {
   "cell_type": "code",
   "execution_count": null,
   "id": "5775d896",
   "metadata": {},
   "outputs": [],
   "source": [
    "import os\n",
    "import glob\n",
    "import numpy as np\n",
    "import xarray as xr\n",
    "import pandas as pd\n",
    "import arviz as az\n",
    "import seaborn as sns\n",
    "import pymc3 as pm\n",
    "import theano.tensor as tt\n",
    "import matplotlib.pyplot as plt\n",
    "from matplotlib import cm\n",
    "import matplotlib as mpl\n",
    "from matplotlib.gridspec import GridSpec\n",
    "from edge_funcs import *\n",
    "\n",
    "%matplotlib inline\n",
    "\n",
    "sns.set()\n",
    "sns.set_style(\"white\")\n",
    "sns.set_style(\"ticks\")"
   ]
  },
  {
   "cell_type": "markdown",
   "id": "b82090b3",
   "metadata": {},
   "source": [
    "## Create the synthetic forcing data"
   ]
  },
  {
   "cell_type": "code",
   "execution_count": null,
   "id": "57059dc1",
   "metadata": {},
   "outputs": [],
   "source": [
    "del_z = 1.0\n",
    "del_t = 300.0\n",
    "h_tot = 16.0\n",
    "\n",
    "bbl_h_start = 15\n",
    "km_bg = 10**-4\n",
    "\n",
    "fg, mg, tg = generate_grid(h_tot, del_z, 12*60*60, del_t) \n",
    "print('Grid size = ', str(len(mg)), ' x ', str(len(tg)))"
   ]
  },
  {
   "cell_type": "code",
   "execution_count": null,
   "id": "752e5ee9",
   "metadata": {},
   "outputs": [],
   "source": [
    "# Specify a u* time series for diffusivity profile\n",
    "f_wave = 0.17*np.sin(np.linspace(-np.pi/2,3.5*np.pi,len(tg))) + 0.20\n",
    "u_bed = np.sqrt((f_wave)**2 * 0.00185)\n",
    "t_bed = 1035*u_bed**2\n",
    "\n",
    "# Calculate diffusivity profile\n",
    "Ks_all = calc_Ks(u_bed, fg, np.repeat(bbl_h_start, len(tg)), km_bg)"
   ]
  },
  {
   "cell_type": "markdown",
   "id": "148d6af3",
   "metadata": {},
   "source": [
    "## Create the synthetic SSC data\n",
    "\n",
    "#### Pick some realistic parameters from literature"
   ]
  },
  {
   "cell_type": "code",
   "execution_count": null,
   "id": "1bf09599",
   "metadata": {},
   "outputs": [],
   "source": [
    "w_s = 1.0 # [mm/s]\n",
    "t_c = 7.0 # [x10-2]\n",
    "e_0 = 3.0 # [x10-4]\n",
    "m_c = None\n",
    "b_c = 1.1 # close to one makes the model difficult to sample\n",
    "\n",
    "theta_syn = [w_s, e_0, t_c, m_c, b_c, 0]"
   ]
  },
  {
   "cell_type": "code",
   "execution_count": null,
   "id": "65060d69",
   "metadata": {},
   "outputs": [],
   "source": [
    "# Run the model once to get initial profile\n",
    "model_spec = [tg, mg, fg, np.zeros_like(mg), Ks_all, h_tot, t_bed]\n",
    "\n",
    "syn_init = obj(theta_syn, 'E1', model_spec, True)\n",
    "cn_rn = syn_init[-1,:]\n",
    "\n",
    "# Run the model again to get the final synthetic data\n",
    "model_spec = [tg, mg, fg, cn_rn, Ks_all, h_tot, t_bed]\n",
    "syn_final = obj(theta_syn, 'E1', model_spec, True)\n"
   ]
  },
  {
   "cell_type": "markdown",
   "id": "caf0bb38",
   "metadata": {},
   "source": [
    "## Add noise to the synthetic SSC\n"
   ]
  },
  {
   "cell_type": "code",
   "execution_count": null,
   "id": "7543eaeb",
   "metadata": {},
   "outputs": [],
   "source": [
    "obs_htx = ((mg >= 0.5) & (mg <= 1.4)) | ((mg >= 8.5) & (mg <= 9.4))\n",
    "\n",
    "obs_mod = np.copy(syn_final)\n",
    "\n",
    "noise_sd = 2/1000\n",
    "noise_meas = np.random.normal(0, noise_sd, np.shape(obs_mod))\n",
    "obs_meas = obs_mod + noise_meas"
   ]
  },
  {
   "cell_type": "code",
   "execution_count": null,
   "id": "1f450a89",
   "metadata": {},
   "outputs": [],
   "source": [
    "fig, ax = plt.subplots(3, 1, figsize=(11,5))\n",
    "plt.subplots_adjust(hspace=0.1)\n",
    "\n",
    "ax[0].plot(tg/60/60/24, t_bed, label='$\\\\tau_b$', c='darkgrey')\n",
    "ax[0].plot(tg/60/60/24, 10*u_bed, label=r'$u_* \\times$ 10', c='k')\n",
    "\n",
    "ax[0].set_ylabel('$\\\\tau_b$ [Pa]\\n $u_*$ $\\\\times$ 10 [m s$^{-1}$]')\n",
    "ax[0].legend()\n",
    "\n",
    "pc=ax[1].pcolor(tg/60/60/24, mg, 1000*obs_meas.T, cmap=cm.viridis)\n",
    "cb2 = fig.colorbar(pc, ax=ax[1], pad=0.01)\n",
    "mpl.colorbar.ColorbarBase.set_label(cb2, '$C \\\\times 10^{-3}$\\n[kg m$^{-3}$]')\n",
    "\n",
    "ax[1].set_ylabel('m ASB')\n",
    "ax[2].plot(tg/60/60/24, obs_meas.T[obs_htx][0]*1000, label='0.5 m ASB')\n",
    "ax[2].plot(tg/60/60/24, obs_meas.T[obs_htx][1]*1000, label='8.5 m ASB')\n",
    "ax[2].legend()\n",
    "\n",
    "ax[2].set_ylabel('$C \\\\times 10^{-3}$\\n[kg m$^{-3}$]')\n",
    "ax[2].set_xlabel('Days')\n",
    "\n",
    "ax_zero = ax[1].get_position().bounds\n",
    "for x in ax:\n",
    "    x.set_xlim(0, tg[-1]/60/60/24)\n",
    "    if x != ax[-1]:\n",
    "        x.set_xlabel('')\n",
    "        x.set_xticklabels('')\n",
    "\n",
    "    if x != ax[1]:\n",
    "        ax_one = x.get_position().bounds\n",
    "        x.set_position([ax_zero[0], ax_one[1], ax_zero[2], ax_one[3]])"
   ]
  },
  {
   "cell_type": "markdown",
   "id": "7190b05b",
   "metadata": {},
   "source": [
    "# Run the inference\n",
    "\n",
    "See edge_funcs.py for numerical model code, log-likelihood function, and related functions"
   ]
  },
  {
   "cell_type": "code",
   "execution_count": null,
   "id": "38c3c374",
   "metadata": {},
   "outputs": [],
   "source": [
    "model_spec = [tg, mg, fg, syn_final[-1,:], Ks_all, h_tot, t_bed]"
   ]
  },
  {
   "cell_type": "code",
   "execution_count": null,
   "id": "b6f87cab",
   "metadata": {},
   "outputs": [],
   "source": [
    "# create operation\n",
    "logl = LogLike(my_loglike, obs_meas, 'E1', model_spec, obs_htx, True)\n",
    "\n",
    "# create model and set priors\n",
    "with pm.Model() as model:\n",
    "    w_s_pdf = pm.Lognormal('w_s', mu=0.5, sigma=0.7)\n",
    "    e_0_pdf = pm.HalfNormal('e_0', sd=20)\n",
    "    t_c_pdf = pm.HalfNormal('t_c', sd=3)\n",
    "    m_c_pdf = 0.0\n",
    "    b_c_pdf = pm.Lognormal('b_c', mu=0.25, sigma=0.5)\n",
    "    sig_pdf = pm.HalfNormal('sig_mod', 3.0)\n",
    "\n",
    "    # Convert parameters to a tensor vector\n",
    "    theta = tt.as_tensor_variable([w_s_pdf, e_0_pdf, t_c_pdf, m_c_pdf, b_c_pdf, sig_pdf])\n",
    "    \n",
    "    # Specify custom log-likelihood (standard Guassian that takes numerical model output - see edge_funcs.py)\n",
    "    likelihood = pm.DensityDist(\"likelihood\", lambda v: logl(v), observed={\"v\": theta})\n",
    "    \n",
    "    # Save log-likelihood value (extra step - increases run time)\n",
    "    llk = pm.Deterministic('logp', model.logpt)"
   ]
  },
  {
   "cell_type": "code",
   "execution_count": null,
   "id": "9f3fda17",
   "metadata": {},
   "outputs": [],
   "source": [
    "with model:\n",
    "    trace_norm = pm.sample(20000, step=pm.DEMetropolis(), chains=12, tune=10000,\\\n",
    "                           pickle_backend='dill', cores=1, compute_convergence_checks=False)"
   ]
  },
  {
   "cell_type": "code",
   "execution_count": null,
   "id": "84d78f8b",
   "metadata": {},
   "outputs": [],
   "source": [
    "with model:\n",
    "    id_all = az.from_pymc3(trace_norm, density_dist_obs=False, log_likelihood=False)\n",
    "i_xr = az.convert_to_dataset(id_all)\n",
    "i_xr_result = i_xr.isel(draw=np.arange(10000,30000)))\n",
    "i_xr_result.to_netcdf(path='CS2_E1', mode='w')\n",
    "print('Trace saved')\n",
    "\n",
    "i_xr_result = xr.open_dataset('CS2_E1', engine='netcdf4', mode='r')\n",
    "print('Trace loaded') "
   ]
  },
  {
   "cell_type": "markdown",
   "id": "be1ea576",
   "metadata": {},
   "source": [
    "# Plot the trace"
   ]
  },
  {
   "cell_type": "code",
   "execution_count": null,
   "id": "1d271466",
   "metadata": {},
   "outputs": [],
   "source": [
    "_=az.plot_trace(i_xr_result)"
   ]
  },
  {
   "cell_type": "code",
   "execution_count": null,
   "id": "55114087",
   "metadata": {},
   "outputs": [],
   "source": [
    "az.summary(i_xr_result)"
   ]
  },
  {
   "cell_type": "code",
   "execution_count": null,
   "id": "1fc14375",
   "metadata": {},
   "outputs": [],
   "source": [
    "df = i_xr_result.to_dataframe()\n",
    "df.reset_index(drop=True, inplace=True)\n",
    "\n",
    "# Force correct order\n",
    "dcols = ['w_s', 'e_0', 't_c', 'b_c', 'sig_mod']\n",
    "df = df[dcols]"
   ]
  },
  {
   "cell_type": "code",
   "execution_count": null,
   "id": "74a25d0f",
   "metadata": {},
   "outputs": [],
   "source": [
    "w_s_prior = w_s_pdf.random(size=len(df))\n",
    "t_c_prior = t_c_pdf.random(size=len(df))\n",
    "e_0_prior = e_0_pdf.random(size=len(df))\n",
    "b_c_prior = b_c_pdf.random(size=len(df))\n",
    "sig_prior = sig_pdf.random(size=len(df))\n",
    "\n",
    "df_prior = pd.DataFrame({'w_s':w_s_prior, 'e_0':e_0_prior, 't_c':t_c_prior, 'b_c':b_c_prior, 'sig_mod':sig_prior})"
   ]
  },
  {
   "cell_type": "markdown",
   "id": "e673cabe",
   "metadata": {},
   "source": [
    "### Plot posteriors (with priors)"
   ]
  },
  {
   "cell_type": "code",
   "execution_count": null,
   "id": "7b7f8c89",
   "metadata": {},
   "outputs": [],
   "source": [
    "fig, ax = plt.subplots(1, 5, figsize=(10,2), constrained_layout=False)\n",
    "\n",
    "labs = ['$w_s \\\\times 10^{-3}$\\n[m s$^{-1}$]', '$M \\\\times 10^{-4}$\\n[kg m$^{-2}$ s$^{-1}$ Pa$^{-b}$]',\\\n",
    "        '$\\\\tau_{cr0} \\\\times 10^{-2}$\\n[Pa]', r'$b$', '$\\\\sigma \\\\times 10^{-3}$\\n[kg m$^{-3}$]']\n",
    "\n",
    "plt_scaling = [1,1,1,1,10]\n",
    "\n",
    "for (x, dpri, dpos, lbs, ps, mm) in zip(ax, df_prior, df, labs, plt_scaling,\\\n",
    "                                        np.array([w_s, e_0, t_c, b_c, 1000*noise_sd])):\n",
    "    df_p = df_prior[dpri]*ps\n",
    "    df_s = df[dpos]*ps\n",
    "    sns.kdeplot(df_p, ax=x, fill=True,\\\n",
    "                color=sns.color_palette(\"deep\", 10)[7], cut=0)\n",
    "    sns.kdeplot(df_s, ax=x, fill=True, bw_adjust=2.0,\\\n",
    "                color=sns.color_palette(\"deep\", 10)[0], cut=0)\n",
    "\n",
    "    ldt = sns.kdeplot(df_s, alpha=0, ax=x, bw_adjust=2.0,\\\n",
    "                        cut=0).get_lines()[0].get_data()\n",
    "    x.axvline(mm, c='teal', linewidth=1.5)\n",
    "    \n",
    "    ax_med = np.median(df_s)\n",
    "    ax_025 = np.percentile(df_s, 2.5)\n",
    "    ax_975 = np.percentile(df_s, 97.5)\n",
    "    \n",
    "    ax_med_ix = np.argmin(np.abs(ax_med - ldt[0]))\n",
    "    ax_025_ix = np.argmin(np.abs(ax_025 - ldt[0]))\n",
    "    ax_975_ix = np.argmin(np.abs(ax_975 - ldt[0]))\n",
    "    ax_plt = [ax_025_ix, ax_med_ix, ax_975_ix]\n",
    "    \n",
    "    sns.scatterplot(x=ldt[0][ax_plt], y=ldt[1][ax_plt], ax=x,\\\n",
    "                    facecolor='w',\\\n",
    "                    edgecolor=sns.color_palette(\"deep\", 10)[0],\\\n",
    "                    size=8, linewidth=1, legend=False)\n",
    "    if x==ax[1]:\n",
    "        x.set_title(str(np.round(ax_med, 1)) + ' (' + str(np.round(ax_025, 1)) + ', ' +\\\n",
    "                    str(np.round(ax_975, 1)) + ')')\n",
    "    else:\n",
    "        x.set_title(str(np.round(ax_med, 2)) + ' (' + str(np.round(ax_025, 2)) + ', ' +\\\n",
    "                    str(np.round(ax_975, 2)) + ')')\n",
    "        \n",
    "    x.set_xlabel(lbs)\n",
    "\n",
    "    x.spines['right'].set_visible(False)\n",
    "    x.spines['left'].set_visible(False)\n",
    "    x.spines['top'].set_visible(False)\n",
    "\n",
    "    x.tick_params(axis='y', which='both', left=False, right=False, labelleft=False)\n",
    "    if x != ax[0]:\n",
    "        x.set_ylabel('')\n",
    "    if x != ax[0]:\n",
    "        x.set_ylabel('')\n",
    "ax[0].set_xlim(0.96,1.04)\n",
    "ax[2].set_xlim(4.5,9.8)\n",
    "ax[1].set_xlim(1.8,5)\n",
    "ax[3].set_xlim(0.7,1.5)\n",
    "ax[4].set_xlim(1.8,2.25)"
   ]
  },
  {
   "cell_type": "markdown",
   "id": "6b76c695",
   "metadata": {},
   "source": [
    "# Sample the model posterior"
   ]
  },
  {
   "cell_type": "code",
   "execution_count": null,
   "id": "7b1dfd04",
   "metadata": {},
   "outputs": [],
   "source": [
    "n_samp = 1000 # 10,000 for paper\n",
    "trace_len = len(df)\n",
    "rand_init = np.random.randint(0, trace_len, (n_samp))\n",
    "samp_res = np.full((n_samp, len(tg), len(mg)), np.nan)\n",
    "samp_noi = np.full((n_samp, len(tg), len(mg)), np.nan)\n",
    "\n",
    "for ix, ri in enumerate(rand_init):\n",
    "    theta_pred = [df['w_s'][ri], df['e_0'][ri], df['t_c'][ri], 0.0, df['b_c'][ri]]\n",
    "    samp_res[ix,:,:] = obj(theta_pred, 'E1', model_spec, True)\n",
    "    \n",
    "    # Scale sigma same as log-likelihood (/100)\n",
    "    samp_noi[ix,:,:] = np.random.normal(loc=0, \\\n",
    "                                      scale=df['sig_mod'][ri]/100,\\\n",
    "                                      size=(len(tg),len(mg)))"
   ]
  },
  {
   "cell_type": "code",
   "execution_count": null,
   "id": "4945fc8b",
   "metadata": {},
   "outputs": [],
   "source": [
    "noi_CI16 = np.percentile((samp_res + samp_noi)[:,:,0], 25, axis=0)\n",
    "noi_CI84 = np.percentile((samp_res + samp_noi)[:,:,0], 75, axis=0)\n",
    "\n",
    "noi_CI05 = np.percentile((samp_res + samp_noi)[:,:,0], 10, axis=0)\n",
    "noi_CI95 = np.percentile((samp_res + samp_noi)[:,:,0], 90, axis=0)\n",
    "\n",
    "noi_CI01 = np.percentile((samp_res + samp_noi)[:,:,0], 2.5, axis=0)\n",
    "noi_CI99 = np.percentile((samp_res + samp_noi)[:,:,0], 97.5, axis=0)\n",
    "\n",
    "hih_CI16 = np.percentile((samp_res + samp_noi)[:,:,8], 25, axis=0)\n",
    "hih_CI84 = np.percentile((samp_res + samp_noi)[:,:,8], 75, axis=0)\n",
    "\n",
    "hih_CI05 = np.percentile((samp_res + samp_noi)[:,:,8], 10, axis=0)\n",
    "hih_CI95 = np.percentile((samp_res + samp_noi)[:,:,8], 90, axis=0)\n",
    "\n",
    "hih_CI01 = np.percentile((samp_res + samp_noi)[:,:,8], 2.5, axis=0)\n",
    "hih_CI99 = np.percentile((samp_res + samp_noi)[:,:,8], 97.5, axis=0)"
   ]
  },
  {
   "cell_type": "code",
   "execution_count": null,
   "id": "91ff0af8",
   "metadata": {
    "scrolled": false
   },
   "outputs": [],
   "source": [
    "fig = plt.figure(figsize=(10.5,6.5), constrained_layout=False)\n",
    "gs1 = GridSpec(2, 3, figure=fig, hspace=0.25)\n",
    "ax = np.empty((4,), dtype='object')\n",
    "ax[0] = fig.add_subplot(gs1[0,:])\n",
    "ax[1] = fig.add_subplot(gs1[1,0])\n",
    "ax[2] = fig.add_subplot(gs1[1,1])\n",
    "ax[3] = fig.add_subplot(gs1[1,2])\n",
    "\n",
    "lowplt = ax[0].fill_between(tg/60/60/24, hih_CI16*1000,\\\n",
    "                 y2=hih_CI84*1000, color='royalblue', label='8.5 m ASB', zorder=3)\n",
    "ax[0].fill_between(tg/60/60/24, hih_CI05*1000,\\\n",
    "                 y2=hih_CI95*1000, color='dodgerblue', zorder=2)\n",
    "ax[0].fill_between(tg/60/60/24, hih_CI01*1000,\\\n",
    "                 y2=hih_CI99*1000, color='skyblue', zorder=1)\n",
    "ax[0].plot(tg/60/60/24, 1000*obs_meas[:,8], zorder=4, c='darkblue')\n",
    "\n",
    "hihplt = ax[0].fill_between(tg/60/60/24, noi_CI16*1000,\\\n",
    "                 y2=noi_CI84*1000, color='dimgrey', label='0.5 m ASB', zorder=3)\n",
    "ax[0].fill_between(tg/60/60/24, noi_CI05*1000,\\\n",
    "                 y2=noi_CI95*1000, color='darkgrey', zorder=2)\n",
    "ax[0].fill_between(tg/60/60/24, noi_CI01*1000,\\\n",
    "                 y2=noi_CI99*1000, color='gainsboro', zorder=1)\n",
    "ax[0].plot(tg/60/60/24, 1000*obs_meas[:,0], c='k', zorder=4)\n",
    "\n",
    "ax[0].set_ylabel(r'$C \\times 10^{-3}$ [kg m$^{-3}$]')\n",
    "ax[0].set_xlabel('Days')\n",
    "ax[0].legend(handles=[hihplt, lowplt])\n",
    "ax[0].set_xlim((tg/60/60/24)[0], (tg/60/60/24)[-1])\n",
    "\n",
    "#####\n",
    "sns.scatterplot(x=df['t_c'], y=df['e_0'], ax=ax[1], s=5)\n",
    "sns.scatterplot(x=df['t_c'], y=df['b_c'], ax=ax[2], s=5)\n",
    "sns.scatterplot(x=df['e_0'], y=df['b_c'], ax=ax[3], s=5)\n",
    "\n",
    "ax[1].scatter(t_c, e_0, s=60, color='maroon', edgecolors='w')\n",
    "ax[2].scatter(t_c, b_c, s=60, color='maroon', edgecolors='w')\n",
    "ax[3].scatter(e_0, b_c, s=60, color='maroon', edgecolors='w')\n",
    "\n",
    "# Very slow\n",
    "# sns.kdeplot(x=df['t_c'], y=df['e_0'], ax=ax[1], levels=[0.05, 0.2 ,0.5], color='k', bw_adjust=1.5)\n",
    "# sns.kdeplot(x=df['t_c'], y=df['b_c'], ax=ax[2], levels=[0.05, 0.2 ,0.5], color='k', bw_adjust=1.5)\n",
    "# sns.kdeplot(x=df['e_0'], y=df['b_c'], ax=ax[3], levels=[0.05, 0.2 ,0.5], color='k', bw_adjust=1.5)\n",
    "\n",
    "for x in ax[1:]:\n",
    "    x.spines['right'].set_visible(False)\n",
    "    x.spines['top'].set_visible(False)\n",
    "    \n",
    "ax[1].set_xlabel(r'$\\tau_{cr0} \\times 10^{-2}$')\n",
    "ax[1].set_ylabel('$M$')\n",
    "\n",
    "ax[2].set_ylabel('$b$')\n",
    "ax[2].set_xlabel(r'$\\tau_{cr0} \\times 10^{-2}$')\n",
    "\n",
    "ax[3].set_xlabel('$M$')\n",
    "ax[3].set_ylabel('$b$')\n"
   ]
  },
  {
   "cell_type": "code",
   "execution_count": null,
   "id": "ad437e1c",
   "metadata": {},
   "outputs": [],
   "source": [
    "# !jupyter nbconvert --to html CaseStudy2_E1_DE-MC.ipynb"
   ]
  },
  {
   "cell_type": "code",
   "execution_count": null,
   "id": "5184d091",
   "metadata": {},
   "outputs": [],
   "source": []
  }
 ],
 "metadata": {
  "kernelspec": {
   "display_name": "Python 3 (ipykernel)",
   "language": "python",
   "name": "python3"
  },
  "language_info": {
   "codemirror_mode": {
    "name": "ipython",
    "version": 3
   },
   "file_extension": ".py",
   "mimetype": "text/x-python",
   "name": "python",
   "nbconvert_exporter": "python",
   "pygments_lexer": "ipython3",
   "version": "3.9.13"
  }
 },
 "nbformat": 4,
 "nbformat_minor": 5
}
