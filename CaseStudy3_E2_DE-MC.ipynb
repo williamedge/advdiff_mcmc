{
 "cells": [
  {
   "cell_type": "markdown",
   "id": "4033e483",
   "metadata": {},
   "source": [
    "# Notebook for Edge et al. (2022) JGR:JAMES submission\n",
    "\n",
    "## Case Study 3: Erosion model 1\n",
    "\n",
    "Notes:\n",
    "- This version of the notebook was not run in an optimized Python environment (g++, chain parallelization). \n"
   ]
  },
  {
   "cell_type": "code",
   "execution_count": null,
   "id": "5775d896",
   "metadata": {},
   "outputs": [],
   "source": [
    "import os\n",
    "import glob\n",
    "import numpy as np\n",
    "import xarray as xr\n",
    "import pandas as pd\n",
    "import arviz as az\n",
    "import seaborn as sns\n",
    "import pymc3 as pm\n",
    "import theano.tensor as tt\n",
    "import matplotlib.pyplot as plt\n",
    "import cmocean as cmoc\n",
    "from matplotlib import cm\n",
    "import matplotlib as mpl\n",
    "from scipy.interpolate import RectBivariateSpline\n",
    "from scipy.signal import butter, sosfiltfilt\n",
    "\n",
    "from edge_funcs import *\n",
    "\n",
    "%matplotlib inline\n",
    "\n",
    "sns.set()\n",
    "sns.set_style(\"white\")\n",
    "sns.set_style(\"ticks\")"
   ]
  },
  {
   "cell_type": "markdown",
   "id": "ce669b18",
   "metadata": {},
   "source": [
    "## Load the forcing and fitting data\n"
   ]
  },
  {
   "cell_type": "code",
   "execution_count": null,
   "id": "1b1a83de",
   "metadata": {},
   "outputs": [],
   "source": [
    "ds = xr.load_dataset('CS3_data.nc')"
   ]
  },
  {
   "cell_type": "markdown",
   "id": "78fa2bab",
   "metadata": {},
   "source": [
    "### Create the grid and interpolate forcing / fitting data"
   ]
  },
  {
   "cell_type": "code",
   "execution_count": null,
   "id": "57059dc1",
   "metadata": {},
   "outputs": [],
   "source": [
    "del_z = 1.0\n",
    "del_t = 300.0\n",
    "h_tot = 24.0\n",
    "\n",
    "km_bg = 10**-4"
   ]
  },
  {
   "cell_type": "code",
   "execution_count": null,
   "id": "38ca701b",
   "metadata": {},
   "outputs": [],
   "source": [
    "fg, mg, tg = generate_grid(h_tot, del_z, (len(ds.tg)-3)*60, del_t) \n",
    "print('Grid size = ', str(len(mg)), ' x ', str(len(tg)))"
   ]
  },
  {
   "cell_type": "code",
   "execution_count": null,
   "id": "7543eaeb",
   "metadata": {},
   "outputs": [],
   "source": [
    "# Interpolate data onto new tg\n",
    "cur_fi = interp1d(ds.tg, ds.current)\n",
    "cur_it = cur_fi(tg)\n",
    "\n",
    "wp_fi = RectBivariateSpline(ds.tg, ds.fg, ds.w_all)\n",
    "w_prof_all = wp_fi(tg, fg)\n",
    "\n",
    "ssc_fi = RectBivariateSpline(ds.tg, ds.mg, ds.c_all)\n",
    "ssc_it = ssc_fi(tg, mg)\n",
    "\n",
    "bbl_nan = np.isnan(ds.bbl_db)\n",
    "bbl_fi = interp1d(ds.tg[~bbl_nan], ds.bbl_db[~bbl_nan], bounds_error=False)\n",
    "bbl_it = bbl_fi(tg)\n",
    "\n",
    "obs_htx = ((mg >= 1.0) & (mg <= 2.0)) | ((mg >= 9.0) & (mg <= 10.0))\n",
    "obs_meas = ssc_it[:,obs_htx]"
   ]
  },
  {
   "cell_type": "code",
   "execution_count": null,
   "id": "591eadd4",
   "metadata": {},
   "outputs": [],
   "source": [
    "u_bed = np.sqrt(cur_it**2 * 0.00185)\n",
    "t_bed = 1035*u_bed**2\n",
    "\n",
    "Ks_all = calc_Ks(u_bed, fg, bbl_it, km_bg)\n",
    "# Ks_cub[Ks_cub<km_bg] = km_bg\n",
    "\n",
    "c_init = ssc_it[0,:]"
   ]
  },
  {
   "cell_type": "code",
   "execution_count": null,
   "id": "d5595f14",
   "metadata": {},
   "outputs": [],
   "source": [
    "# Lowpass filter the vertical velocities\n",
    "sos = butter(2, 1/(6*3600), btype='lowpass', output='sos', fs=1/300)\n",
    "w_all_lp = np.full_like(w_prof_all, np.nan)\n",
    "for ix, wa in enumerate(w_all_lp.T):\n",
    "    w_all_lp[:,ix] = sosfiltfilt(sos, wa)"
   ]
  },
  {
   "cell_type": "code",
   "execution_count": null,
   "id": "4ac2e49f",
   "metadata": {
    "scrolled": false
   },
   "outputs": [],
   "source": [
    "fig, ax = plt.subplots(3, 1, figsize=(10,5))\n",
    "plt.subplots_adjust(hspace=0.1)\n",
    "\n",
    "ax1plt, = ax[0].plot(tg/60/60/24, t_bed, label='$\\\\tau_b$', c='darkgrey')\n",
    "ax[0].plot(tg/60/60/24, 10*u_bed, label=r'$u_* \\times$ 10', c='k')\n",
    "\n",
    "ax[0].set_ylabel('$\\\\tau_b$ [Pa]\\n $u_*$ $\\\\times$ 10 [m s$^{-1}$]')\n",
    "ax[0].legend()\n",
    "ax[0].set_ylim(0, 0.5)\n",
    "ax[0].set_ylim(0, 0.4)\n",
    "\n",
    "pc=ax[1].pcolor(tg/60/60/24, fg, Ks_all.T, cmap=cm.plasma, vmin=0, vmax=0.026)\n",
    "cb2 = fig.colorbar(pc, ax=ax[1], pad=0.01)\n",
    "mpl.colorbar.ColorbarBase.set_label(cb2, '$\\gamma_z$ [m$^2$ s$^{-1}$]')\n",
    "ax[1].set_ylabel('m ASB')\n",
    "ax[1].plot(tg/60/60/24, bbl_it, c='w')\n",
    "\n",
    "ax[2].plot(tg/60/60/24, 1000*obs_meas[:,0], label=('1.5 m ASB'))\n",
    "ax[2].plot(tg/60/60/24, 1000*obs_meas[:,1], label=('9.5 m ASB'))\n",
    "\n",
    "ax[2].legend(bbox_to_anchor=(0.3, 0.4))\n",
    "\n",
    "ax[2].set_ylabel('$C \\\\times 10^{-3}$\\n[kg m$^{-3}$]')\n",
    "ax[2].set_xlabel('Days')\n",
    "ax[2].set_ylim(0, 25)\n",
    "\n",
    "ax_zero = ax[1].get_position().bounds\n",
    "for x in ax:\n",
    "    x.set_xlim(0, tg[-1]/60/60/24)\n",
    "    if x != ax[-1]:\n",
    "        x.set_xlabel('')\n",
    "        x.set_xticklabels('')\n",
    "\n",
    "    if (x == ax[0]) | (x == ax[2]):\n",
    "        ax_one = x.get_position().bounds\n",
    "        x.set_position([ax_zero[0], ax_one[1], ax_zero[2], ax_one[3]])\n"
   ]
  },
  {
   "cell_type": "markdown",
   "id": "2369d40f",
   "metadata": {},
   "source": [
    "# Run the inference\n",
    "\n",
    "See edge_funcs.py for numerical model code, log-likelihood function, and related functions"
   ]
  },
  {
   "cell_type": "code",
   "execution_count": null,
   "id": "1669b5ac",
   "metadata": {},
   "outputs": [],
   "source": [
    "model_spec = [tg, mg, fg, c_init, Ks_all, h_tot, t_bed]"
   ]
  },
  {
   "cell_type": "code",
   "execution_count": null,
   "id": "b33d1879",
   "metadata": {},
   "outputs": [],
   "source": [
    "# create operation\n",
    "logl = LogLike(my_loglike, ssc_it, 'E2', model_spec, obs_htx, True)\n",
    "\n",
    "# create model and set priors\n",
    "with pm.Model() as model:\n",
    "    w_s_pdf = pm.Lognormal('w_s', mu=0.5, sigma=0.7)\n",
    "    e_0_pdf = pm.HalfNormal('e_0', sd=20)\n",
    "    t_c_pdf = pm.HalfNormal('t_c', sd=3)\n",
    "    m_c_pdf = pm.Lognormal('m_c', mu=0.5, sigma=1.5)\n",
    "    b_c_pdf = pm.Lognormal('b_c', mu=0.25, sigma=0.5)\n",
    "    sig_pdf = pm.HalfNormal('sig_mod', 3.0)\n",
    "\n",
    "    # Convert parameters to a tensor vector\n",
    "    theta = tt.as_tensor_variable([w_s_pdf, e_0_pdf, t_c_pdf, m_c_pdf, b_c_pdf, sig_pdf])\n",
    "    \n",
    "    # Specify custom log-likelihood (standard Guassian that takes numerical model output - see edge_funcs.py)\n",
    "    likelihood = pm.DensityDist(\"likelihood\", lambda v: logl(v), observed={\"v\": theta})\n",
    "    \n",
    "    # Save log-likelihood value (extra step - increases run time)\n",
    "    llk = pm.Deterministic('logp', model.logpt)"
   ]
  },
  {
   "cell_type": "code",
   "execution_count": null,
   "id": "6e7c8590",
   "metadata": {},
   "outputs": [],
   "source": [
    "with model:\n",
    "    trace_norm = pm.sample(20000, step=pm.DEMetropolis(), chains=12, tune=10000,\\\n",
    "                           pickle_backend='dill', cores=1, compute_convergence_checks=False)"
   ]
  },
  {
   "cell_type": "code",
   "execution_count": null,
   "id": "aaa0d1e6",
   "metadata": {},
   "outputs": [],
   "source": [
    "with model:\n",
    "    id_all = az.from_pymc3(trace_norm, density_dist_obs=False, log_likelihood=False)\n",
    "i_xr = az.convert_to_dataset(id_all)\n",
    "i_xr_result = i_xr.isel(draw=np.arange(10000,30000)))\n",
    "i_xr_result.to_netcdf(path='CS3_E2', mode='w')\n",
    "print('Trace saved')\n",
    "\n",
    "i_xr_result = xr.open_dataset('CS3_E2', engine='netcdf4', mode='r')\n",
    "print('Trace loaded') "
   ]
  },
  {
   "cell_type": "markdown",
   "id": "be1ea576",
   "metadata": {},
   "source": [
    "# Plot the trace"
   ]
  },
  {
   "cell_type": "code",
   "execution_count": null,
   "id": "f02b92e2",
   "metadata": {},
   "outputs": [],
   "source": [
    "_=az.plot_trace(i_xr_result)"
   ]
  },
  {
   "cell_type": "code",
   "execution_count": null,
   "id": "e7d13a19",
   "metadata": {},
   "outputs": [],
   "source": [
    "az.stats.summary(i_xr_result)\n"
   ]
  },
  {
   "cell_type": "code",
   "execution_count": null,
   "id": "1d201e92",
   "metadata": {},
   "outputs": [],
   "source": [
    "df = i_xr_result.to_dataframe()\n",
    "df.reset_index(drop=True, inplace=True)\n",
    "\n",
    "# Force correct order\n",
    "dcols = ['w_s', 'e_0', 't_c', 'm_c' ,'b_c', 'sig_mod']\n",
    "df = df[dcols]"
   ]
  },
  {
   "cell_type": "code",
   "execution_count": null,
   "id": "7f64e53e",
   "metadata": {},
   "outputs": [],
   "source": [
    "w_s_prior = w_s_pdf.random(size=len(df))\n",
    "t_c_prior = t_c_pdf.random(size=len(df))\n",
    "e_0_prior = e_0_pdf.random(size=len(df))\n",
    "m_c_prior = m_c_pdf.random(size=len(df))\n",
    "b_c_prior = b_c_pdf.random(size=len(df))\n",
    "sig_prior = sig_pdf.random(size=len(df))\n",
    "\n",
    "df_prior = pd.DataFrame({'w_s':w_s_prior, 'e_0':e_0_prior, 't_c':t_c_prior, 'm_c':m_c_prior,\\\n",
    "                         'b_c':b_c_prior, 'sig_mod':sig_prior})"
   ]
  },
  {
   "cell_type": "code",
   "execution_count": null,
   "id": "0e4cc579",
   "metadata": {},
   "outputs": [],
   "source": [
    "fig, ax = plt.subplots(1, 6, figsize=(10,2), constrained_layout=False)\n",
    "\n",
    "labs = ['$w_s \\\\times 10^{-4}$\\n[m s$^{-1}$]', '$M \\\\times 10^{-4}$\\n[kg m$^{-2}$ s$^{-1}$]',\\\n",
    "        '$\\\\tau_{cr0} \\\\times 10^{-2}$\\n[Pa]', '$\\\\tau_m$\\n[Pa $m_c^{-\\\\tau_b}$]',\\\n",
    "        r'$\\tau_b$', '$\\\\sigma \\\\times 10^{-3}$\\n[kg m$^{-3}$]']\n",
    "plt_scaling = [1,1,1,0.1,1,10]\n",
    "\n",
    "for (x, dpri, dpos, lbs, ps) in zip(ax, df_prior, df, labs, plt_scaling):\n",
    "    df_p = df_prior[dpri]*ps\n",
    "    df_s = df[dpos]*ps\n",
    "    sns.kdeplot(df_p, ax=x, fill=True,\\\n",
    "                color=sns.color_palette(\"deep\", 10)[7], cut=0)\n",
    "    sns.kdeplot(df_s, ax=x, fill=True, bw_adjust=2.0,\\\n",
    "                color=sns.color_palette(\"deep\", 10)[0], cut=0)\n",
    "    \n",
    "    ldt = sns.kdeplot(df_s, alpha=0, ax=x,\\\n",
    "                        cut=0).get_lines()[0].get_data()\n",
    "        \n",
    "    ax_med = np.median(df_s)\n",
    "    ax_025 = np.percentile(df_s, 2.5)\n",
    "    ax_975 = np.percentile(df_s, 97.5)\n",
    "    \n",
    "    ax_med_ix = np.argmin(np.abs(ax_med - ldt[0]))\n",
    "    ax_025_ix = np.argmin(np.abs(ax_025 - ldt[0]))\n",
    "    ax_975_ix = np.argmin(np.abs(ax_975 - ldt[0]))\n",
    "    ax_plt = [ax_025_ix, ax_med_ix, ax_975_ix]\n",
    "    \n",
    "    sns.scatterplot(x=ldt[0][ax_plt], y=ldt[1][ax_plt], ax=x,\\\n",
    "                    facecolor='w',\\\n",
    "                    edgecolor=sns.color_palette(\"deep\", 10)[0],\\\n",
    "                    size=8, linewidth=1, legend=False, zorder=4)\n",
    "\n",
    "    x.set_xlabel(lbs)\n",
    "    \n",
    "    x.set_title(str(np.round(ax_med, 2)) + ' (' + str(np.round(ax_025, 2)) + ', ' +\\\n",
    "                str(np.round(ax_975, 2)) + ')')\n",
    "    \n",
    "    x.spines['right'].set_visible(False)\n",
    "    x.spines['left'].set_visible(False)\n",
    "    x.spines['top'].set_visible(False)\n",
    "\n",
    "    x.tick_params(axis='y', which='both', left=False, right=False, labelleft=False)\n",
    "    if x != ax[0]:\n",
    "        x.set_ylabel('')\n",
    "ax[0].set_xlim(0.42,0.53)\n",
    "ax[1].set_xlim(0.68,1.07)\n",
    "ax[2].set_xlim(-0.15,3.8)\n",
    "ax[3].set_xlim(0.38,0.7)\n",
    "ax[4].set_xlim(0.5,0.9)\n",
    "ax[5].set_xlim(1,1.7)\n"
   ]
  },
  {
   "cell_type": "code",
   "execution_count": null,
   "id": "a9689fea",
   "metadata": {},
   "outputs": [],
   "source": [
    "fig, ax = plt.subplots(1, 3, figsize=(10.5,3.0), constrained_layout=False)\n",
    "\n",
    "sns.scatterplot(x=df['e_0'], y=df['m_c'], ax=ax[0], s=5)\n",
    "sns.scatterplot(x=df['t_c'], y=df['b_c'], ax=ax[1], s=5)\n",
    "sns.scatterplot(x=df['m_c'], y=df['b_c'], ax=ax[2], s=5)\n",
    "\n",
    "# sns.scatterplot(df_1['e_0'], df_1['m_c'], ax=ax[0], s=5)\n",
    "# sns.scatterplot(df_1['t_c'], df_1['b_c'], ax=ax[1], s=5)\n",
    "# sns.scatterplot(df_1['m_c'], df_1['b_c'], ax=ax[2], s=5)\n",
    "\n",
    "for x in ax:\n",
    "    x.spines['right'].set_visible(False)\n",
    "    x.spines['top'].set_visible(False)\n",
    "    \n",
    "ax[0].set_xlabel('$M \\\\times 10^{-4}$')\n",
    "ax[0].set_ylabel('$\\\\tau_m$')\n",
    "\n",
    "ax[1].set_xlabel(r'$\\tau_{cr0} \\times 10^{-2}$')\n",
    "ax[1].set_ylabel(r'$\\tau_b$')\n",
    "\n",
    "ax[2].set_xlabel('$\\\\tau_m$')\n",
    "ax[2].set_ylabel(r'$\\tau_b$')\n"
   ]
  },
  {
   "cell_type": "markdown",
   "id": "6b76c695",
   "metadata": {},
   "source": [
    "# Sample the model posterior"
   ]
  },
  {
   "cell_type": "code",
   "execution_count": null,
   "id": "85581702",
   "metadata": {},
   "outputs": [],
   "source": [
    "n_samp = 1000 # 10,000 for paper\n",
    "trace_len = len(df)\n",
    "rand_init = np.random.randint(0, trace_len, (n_samp))\n",
    "samp_res = np.full((n_samp, len(tg), len(mg)), np.nan)\n",
    "samp_noi = np.full((n_samp, len(tg), len(mg)), np.nan)\n",
    "\n",
    "for ix, ri in enumerate(rand_init):\n",
    "    theta_pred = [df['w_s'][ri], df['e_0'][ri], df['t_c'][ri], df['m_c'][ri], df['b_c'][ri]]\n",
    "    samp_res[ix,:,:] = obj(theta_pred, 'E2', model_spec, True)\n",
    "    \n",
    "    # Scale sigma same as log-likelihood (/100)\n",
    "    samp_noi[ix,:,:] = np.random.normal(loc=0, \\\n",
    "                                      scale=df['sig_mod'][ri]/100,\\\n",
    "                                      size=(len(tg),len(mg)))"
   ]
  },
  {
   "cell_type": "code",
   "execution_count": null,
   "id": "ec1ebaed",
   "metadata": {},
   "outputs": [],
   "source": [
    "noi_CI16 = np.percentile((samp_res + samp_noi)[:,:,1], 25, axis=0)\n",
    "noi_CI84 = np.percentile((samp_res + samp_noi)[:,:,1], 75, axis=0)\n",
    "\n",
    "noi_CI05 = np.percentile((samp_res + samp_noi)[:,:,1], 10, axis=0)\n",
    "noi_CI95 = np.percentile((samp_res + samp_noi)[:,:,1], 90, axis=0)\n",
    "\n",
    "noi_CI01 = np.percentile((samp_res + samp_noi)[:,:,1], 2.5, axis=0)\n",
    "noi_CI99 = np.percentile((samp_res + samp_noi)[:,:,1], 97.5, axis=0)\n",
    "\n",
    "hih_CI16 = np.percentile((samp_res + samp_noi)[:,:,9], 25, axis=0)\n",
    "hih_CI84 = np.percentile((samp_res + samp_noi)[:,:,9], 75, axis=0)\n",
    "\n",
    "hih_CI05 = np.percentile((samp_res + samp_noi)[:,:,9], 10, axis=0)\n",
    "hih_CI95 = np.percentile((samp_res + samp_noi)[:,:,9], 90, axis=0)\n",
    "\n",
    "hih_CI01 = np.percentile((samp_res + samp_noi)[:,:,9], 2.5, axis=0)\n",
    "hih_CI99 = np.percentile((samp_res + samp_noi)[:,:,9], 97.5, axis=0)"
   ]
  },
  {
   "cell_type": "code",
   "execution_count": null,
   "id": "2ae4f250",
   "metadata": {},
   "outputs": [],
   "source": [
    "fig, ax = plt.subplots(2,1, figsize=(9,4.0), constrained_layout=False)\n",
    "\n",
    "lowplt = ax[1].fill_between(tg/60/60/24, hih_CI16*1000,\\\n",
    "                 y2=hih_CI84*1000, color='royalblue', label='9.5 m ASB', zorder=2)\n",
    "ax[1].fill_between(tg/60/60/24, hih_CI05*1000,\\\n",
    "                 y2=hih_CI95*1000, color='dodgerblue', zorder=1)\n",
    "ax[1].fill_between(tg/60/60/24, hih_CI01*1000,\\\n",
    "                 y2=hih_CI99*1000, color='skyblue', zorder=0)\n",
    "ax[1].plot(tg/60/60/24, 1000*obs_meas[:,1], zorder=4, c='darkblue')\n",
    "\n",
    "hihplt = ax[0].fill_between(tg/60/60/24, noi_CI16*1000,\\\n",
    "                 y2=noi_CI84*1000, color='dimgrey', label='1.5 m ASB', zorder=2)\n",
    "ax[0].fill_between(tg/60/60/24, noi_CI05*1000,\\\n",
    "                 y2=noi_CI95*1000, color='darkgrey', zorder=1)\n",
    "ax[0].fill_between(tg/60/60/24, noi_CI01*1000,\\\n",
    "                 y2=noi_CI99*1000, color='gainsboro', zorder=0)\n",
    "ax[0].plot(tg/60/60/24, 1000*obs_meas[:,0], c='k', zorder=4)\n",
    "\n",
    "ax[0].set_title('Scenario $E2$')\n",
    "ax[0].set_ylabel('$C \\\\times 10^{-3}$ [kg m$^{-3}$]\\n1.5 m ASB')\n",
    "ax[0].set_xlabel('')\n",
    "ax[0].set_xticklabels([''])\n",
    "ax[0].set_xlim((tg/60/60/24)[0], (tg/60/60/24)[-1])\n",
    "ax[0].set_ylim(0, 25)\n",
    "\n",
    "ax[1].set_ylabel('$C \\\\times 10^{-3}$ [kg m$^{-3}$]\\n9.5 m ASB')\n",
    "ax[1].set_xlabel('Days')\n",
    "ax[1].set_xlim((tg/60/60/24)[0], (tg/60/60/24)[-1])\n",
    "ax[1].set_ylim(0, 25)\n",
    "plt.subplots_adjust(hspace=0.09)"
   ]
  },
  {
   "cell_type": "code",
   "execution_count": null,
   "id": "ad437e1c",
   "metadata": {},
   "outputs": [],
   "source": [
    "# !jupyter nbconvert --to html CaseStudy3_E2_DE-MC.ipynb"
   ]
  },
  {
   "cell_type": "code",
   "execution_count": null,
   "id": "51e9092a",
   "metadata": {},
   "outputs": [],
   "source": []
  }
 ],
 "metadata": {
  "kernelspec": {
   "display_name": "Python 3 (ipykernel)",
   "language": "python",
   "name": "python3"
  },
  "language_info": {
   "codemirror_mode": {
    "name": "ipython",
    "version": 3
   },
   "file_extension": ".py",
   "mimetype": "text/x-python",
   "name": "python",
   "nbconvert_exporter": "python",
   "pygments_lexer": "ipython3",
   "version": "3.9.13"
  }
 },
 "nbformat": 4,
 "nbformat_minor": 5
}
